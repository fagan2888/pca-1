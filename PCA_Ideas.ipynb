{
  "nbformat": 4,
  "nbformat_minor": 0,
  "metadata": {
    "colab": {
      "name": "PCA-Ideas.ipynb",
      "version": "0.3.2",
      "provenance": [],
      "collapsed_sections": [],
      "include_colab_link": true
    },
    "kernelspec": {
      "name": "python3",
      "display_name": "Python 3"
    }
  },
  "cells": [
    {
      "cell_type": "markdown",
      "metadata": {
        "id": "view-in-github",
        "colab_type": "text"
      },
      "source": [
        "<a href=\"https://colab.research.google.com/github/noahgift/pca/blob/master/PCA_Ideas.ipynb\" target=\"_parent\"><img src=\"https://colab.research.google.com/assets/colab-badge.svg\" alt=\"Open In Colab\"/></a>"
      ]
    },
    {
      "metadata": {
        "id": "dj1DGfMGb9lp",
        "colab_type": "text"
      },
      "cell_type": "markdown",
      "source": [
        "# PCA"
      ]
    },
    {
      "metadata": {
        "id": "uef763mBcAkF",
        "colab_type": "text"
      },
      "cell_type": "markdown",
      "source": [
        "## Fetch MNIST Data"
      ]
    },
    {
      "metadata": {
        "id": "o8gh9Goidg2f",
        "colab_type": "code",
        "colab": {}
      },
      "cell_type": "code",
      "source": [
        "import requests\n",
        "from scipy.io import loadmat\n",
        "\n",
        "\n",
        "def fetch_mnist(url=\"https://github.com/noahgift/pca/blob/master/data/mnist-original.mat?raw=true\"):\n",
        "    \"\"\"Fetch MNIST from Github and Assert Correct Shape\"\"\"\n",
        "    \n",
        "    response = requests.get(url)\n",
        "    mnist_local = \"mnist-original.mat\"\n",
        "    with open(mnist_local, \"wb\") as my_file:\n",
        "        my_file.write(response.content)\n",
        "    mnist_raw = loadmat(mnist_local)\n",
        "    mnist = {\n",
        "        \"data\": mnist_raw[\"data\"].T,\n",
        "        \"target\": mnist_raw[\"label\"][0],\n",
        "        \"COL_NAMES\": [\"label\", \"data\"],\n",
        "        \"DESCR\": \"mldata.org dataset: mnist-original\",\n",
        "    }\n",
        "    #Assert this is the correct shape\n",
        "    X = mnist[\"data\"]\n",
        "    y = mnist[\"target\"]\n",
        "    assert X.shape == (70000, 784)\n",
        "    assert y.shape == (70000,)\n",
        "    return X,y \n",
        "  \n",
        "X, y = fetch_mnist()"
      ],
      "execution_count": 0,
      "outputs": []
    },
    {
      "metadata": {
        "id": "JuVcPRQ7dOHM",
        "colab_type": "code",
        "colab": {
          "base_uri": "https://localhost:8080/",
          "height": 35
        },
        "outputId": "6feca281-447f-4fe0-c656-323d32d4a625"
      },
      "cell_type": "code",
      "source": [
        "y"
      ],
      "execution_count": 8,
      "outputs": [
        {
          "output_type": "execute_result",
          "data": {
            "text/plain": [
              "array([0., 0., 0., ..., 9., 9., 9.])"
            ]
          },
          "metadata": {
            "tags": []
          },
          "execution_count": 8
        }
      ]
    },
    {
      "metadata": {
        "id": "2FNklq9iqr7i",
        "colab_type": "text"
      },
      "cell_type": "markdown",
      "source": [
        "## Timing Decorator\n"
      ]
    },
    {
      "metadata": {
        "id": "W2KBud3JquQq",
        "colab_type": "text"
      },
      "cell_type": "markdown",
      "source": [
        "Useful when timing training"
      ]
    },
    {
      "metadata": {
        "id": "rgurUAg3qxQq",
        "colab_type": "code",
        "colab": {}
      },
      "cell_type": "code",
      "source": [
        "from functools import wraps\n",
        "from time import time\n",
        "def timing(f):\n",
        "    @wraps(f)\n",
        "    def wrap(*args, **kw):\n",
        "        ts = time()\n",
        "        result = f(*args, **kw)\n",
        "        te = time()\n",
        "        print(f\"fun: {f.__name__}, args: [{args}, {kw}] took: {te-ts} sec\")\n",
        "        return result\n",
        "    return wrap"
      ],
      "execution_count": 0,
      "outputs": []
    },
    {
      "metadata": {
        "id": "zMAI_rs0q4Vn",
        "colab_type": "code",
        "outputId": "47b5262f-f981-4bae-983b-cf4c08dc4d27",
        "colab": {
          "base_uri": "https://localhost:8080/",
          "height": 34
        }
      },
      "cell_type": "code",
      "source": [
        "@timing\n",
        "def fetch_mnist_again():\n",
        "  fetch_mnist()\n",
        "  \n",
        "fetch_mnist_again()"
      ],
      "execution_count": 0,
      "outputs": [
        {
          "output_type": "stream",
          "text": [
            "fun: fetch_mnist_again, args: [(), {}] took: 1.3599276542663574 sec\n"
          ],
          "name": "stdout"
        }
      ]
    }
  ]
}