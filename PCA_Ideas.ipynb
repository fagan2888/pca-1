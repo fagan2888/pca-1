{
  "nbformat": 4,
  "nbformat_minor": 0,
  "metadata": {
    "colab": {
      "name": "PCA-Ideas.ipynb",
      "version": "0.3.2",
      "provenance": [],
      "collapsed_sections": [],
      "include_colab_link": true
    },
    "kernelspec": {
      "name": "python3",
      "display_name": "Python 3"
    }
  },
  "cells": [
    {
      "cell_type": "markdown",
      "metadata": {
        "id": "view-in-github",
        "colab_type": "text"
      },
      "source": [
        "<a href=\"https://colab.research.google.com/github/noahgift/pca/blob/master/PCA_Ideas.ipynb\" target=\"_parent\"><img src=\"https://colab.research.google.com/assets/colab-badge.svg\" alt=\"Open In Colab\"/></a>"
      ]
    },
    {
      "metadata": {
        "id": "dj1DGfMGb9lp",
        "colab_type": "text"
      },
      "cell_type": "markdown",
      "source": [
        "# PCA"
      ]
    },
    {
      "metadata": {
        "id": "uef763mBcAkF",
        "colab_type": "text"
      },
      "cell_type": "markdown",
      "source": [
        "## Fetch MNIST Data"
      ]
    },
    {
      "metadata": {
        "id": "o8gh9Goidg2f",
        "colab_type": "code",
        "colab": {}
      },
      "cell_type": "code",
      "source": [
        "import requests\n",
        "from scipy.io import loadmat\n",
        "\n",
        "\n",
        "def fetch_mnist(url=\"https://github.com/noahgift/pca/blob/master/data/mnist-original.mat?raw=true\"):\n",
        "    \"\"\"Fetch MNIST from Github and Assert Correct Shape\"\"\"\n",
        "    \n",
        "    response = requests.get(url)\n",
        "    mnist_local = \"mnist-original.mat\"\n",
        "    with open(mnist_local, \"wb\") as my_file:\n",
        "        my_file.write(response.content)\n",
        "    mnist_raw = loadmat(mnist_local)\n",
        "    mnist = {\n",
        "        \"data\": mnist_raw[\"data\"].T,\n",
        "        \"target\": mnist_raw[\"label\"][0],\n",
        "        \"COL_NAMES\": [\"label\", \"data\"],\n",
        "        \"DESCR\": \"mldata.org dataset: mnist-original\",\n",
        "    }\n",
        "    #Assert this is the correct shape\n",
        "    X = mnist[\"data\"]\n",
        "    y = mnist[\"target\"]\n",
        "    assert X.shape == (70000, 784)\n",
        "    assert y.shape == (70000,)\n",
        "    return X,y \n",
        "  \n",
        "X, y = fetch_mnist()"
      ],
      "execution_count": 0,
      "outputs": []
    },
    {
      "metadata": {
        "id": "KWz3QFUMdF79",
        "colab_type": "code",
        "colab": {}
      },
      "cell_type": "code",
      "source": [
        "X, y = mnist[\"data\"], mnist[\"target\"]"
      ],
      "execution_count": 0,
      "outputs": []
    },
    {
      "metadata": {
        "id": "JuVcPRQ7dOHM",
        "colab_type": "code",
        "colab": {}
      },
      "cell_type": "code",
      "source": [
        ""
      ],
      "execution_count": 0,
      "outputs": []
    }
  ]
}